{
 "cells": [
  {
   "cell_type": "code",
   "execution_count": 42,
   "id": "8f43c3e9",
   "metadata": {},
   "outputs": [],
   "source": [
    "import cv2\n",
    "import mediapipe as mp"
   ]
  },
  {
   "cell_type": "code",
   "execution_count": 43,
   "id": "687fabd1",
   "metadata": {},
   "outputs": [],
   "source": [
    "webcam = cv2.VideoCapture(0) #conecta python a Webcam\n",
    "\n",
    "reconhecimento_rosto = mp.solutions.face_detection #solução para reconhecimento de face\n",
    "desenho = mp.solutions.drawing_utils #solução de desenho\n",
    "reconhecedor_rosto = reconhecimento_rosto.FaceDetection() #item que consegue ler uma imagem e reconhecer rostos ali dentro!!"
   ]
  },
  {
   "cell_type": "code",
   "execution_count": 44,
   "id": "6be8d620",
   "metadata": {},
   "outputs": [],
   "source": [
    "#Loop pora funcionar e reconhecer rostos pela Webcam\n",
    "while webcam.isOpened():\n",
    "    validacao, frame = webcam.read()\n",
    "    if not validacao:\n",
    "        break\n",
    "    \n",
    "    lista_rostos = reconhecedor_rosto.process(frame)\n",
    "    \n",
    "    if lista_rostos.detections:\n",
    "        for rosto in lista_rostos.detections:\n",
    "            desenho.draw_detection(frame, rosto)\n",
    "    \n",
    "    cv2.imshow(\"Rostos detectados na sua webcam\", frame)\n",
    "    if cv2.waitKey(5)== 27: #ESC para interromper\n",
    "        break\n",
    "        \n",
    "webcam.release()\n",
    "cv2.destroyAllWindows()"
   ]
  },
  {
   "cell_type": "code",
   "execution_count": null,
   "id": "70405189",
   "metadata": {},
   "outputs": [],
   "source": []
  }
 ],
 "metadata": {
  "kernelspec": {
   "display_name": "Python 3",
   "language": "python",
   "name": "python3"
  },
  "language_info": {
   "codemirror_mode": {
    "name": "ipython",
    "version": 3
   },
   "file_extension": ".py",
   "mimetype": "text/x-python",
   "name": "python",
   "nbconvert_exporter": "python",
   "pygments_lexer": "ipython3",
   "version": "3.8.8"
  }
 },
 "nbformat": 4,
 "nbformat_minor": 5
}
